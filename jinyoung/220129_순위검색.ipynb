{
 "cells": [
  {
   "cell_type": "markdown",
   "metadata": {},
   "source": [
    "## 개인풀이"
   ]
  },
  {
   "cell_type": "code",
   "execution_count": 31,
   "metadata": {},
   "outputs": [],
   "source": [
    "def solution(info, query):\n",
    "    \n",
    "    info_list = [sent.split()[:-1]+[int(sent.split()[-1])] for sent in info]\n",
    "    query_list = [sent1.split(' and ')[:-1]+[sent1.split()[-2],int(sent1.split()[-1])] for sent1 in query]\n",
    "\n",
    "    answer = []\n",
    "    for q in query_list:\n",
    "        cnt = 0\n",
    "        for i in info_list:\n",
    "            cnt+=check(i,q)\n",
    "        answer.append(cnt)\n",
    "    \n",
    "    return answer\n",
    "\n",
    "def check(p,q):\n",
    "    for i,j in zip(p,q):\n",
    "        if i==j or j=='-':\n",
    "            continue\n",
    "        elif type(i)==int and int(i)>=int(j):\n",
    "            continue\n",
    "        else:\n",
    "            return 0\n",
    "    return 1\n",
    "\n",
    "#효율성 테스트 통과X"
   ]
  },
  {
   "cell_type": "markdown",
   "metadata": {},
   "source": [
    "\n",
    "##### 카카오 해설: https://tech.kakao.com/2021/01/25/2021-kakao-recruitment-round-1/\n",
    "##### ->이진탐색 권장"
   ]
  },
  {
   "cell_type": "markdown",
   "metadata": {},
   "source": [
    "## 다른사람 풀이"
   ]
  },
  {
   "cell_type": "markdown",
   "metadata": {},
   "source": [
    "#### 1) 이진탐색 사용"
   ]
  },
  {
   "cell_type": "code",
   "execution_count": 37,
   "metadata": {},
   "outputs": [],
   "source": [
    "from itertools import combinations\n",
    "from bisect import bisect_left\n",
    "\n",
    "def solution(info, query):\n",
    "    \n",
    "    answer = []\n",
    "    info_dict = {}\n",
    "\n",
    "    for i in range(len(info)):\n",
    "        infol = info[i].split()  # info안의 문자열을 공백을 기준으로 분리\n",
    "        mykey = infol[:-1]  # info의 점수제외부분을 key로 분류\n",
    "        myval = infol[-1]  # info의 점수부분을 value로 분류\n",
    "\n",
    "        for j in range(5):  # key들로 만들 수 있는 모든 조합 생성\n",
    "            for c in combinations(mykey, j):\n",
    "                tmp = ''.join(c)\n",
    "                if tmp in info_dict:\n",
    "                    info_dict[tmp].append(int(myval))  # 그 조합의 key값에 점수 추가\n",
    "                else:\n",
    "                    info_dict[tmp] = [int(myval)]\n",
    "\n",
    "    for k in info_dict:\n",
    "        info_dict[k].sort()  # dict안의 조합들을 점수순으로 정렬\n",
    "    \n",
    "\n",
    "    for qu in query:  # query도 마찬가지로 key와 value로 분리\n",
    "        myqu = qu.split(' ')\n",
    "        qu_key = myqu[:-1]\n",
    "        qu_val = myqu[-1]\n",
    "\n",
    "        while 'and' in qu_key:  # and 제거\n",
    "            qu_key.remove('and')\n",
    "        while '-' in qu_key:  # - 제거\n",
    "            qu_key.remove('-')\n",
    "        qu_key = ''.join(qu_key)  # dict의 key처럼 문자열로 변경\n",
    "\n",
    "        if qu_key in info_dict:  # query의 key가 info_dict의 key로 존재하면\n",
    "            scores = info_dict[qu_key]\n",
    "\n",
    "            if scores:  # score리스트에 값이 존재하면\n",
    "                enter = bisect_left(scores, int(qu_val))\n",
    "\n",
    "                answer.append(len(scores) - enter)\n",
    "        else:\n",
    "            answer.append(0)\n",
    "\n",
    "    return answer\n"
   ]
  },
  {
   "cell_type": "markdown",
   "metadata": {},
   "source": [
    "#### 2)이진탐색 미사용"
   ]
  },
  {
   "cell_type": "code",
   "execution_count": null,
   "metadata": {},
   "outputs": [],
   "source": [
    "def solution(info, query):\n",
    "    data = dict()\n",
    "    for a in ['cpp', 'java', 'python', '-']:\n",
    "        for b in ['backend', 'frontend', '-']:\n",
    "            for c in ['junior', 'senior', '-']:\n",
    "                for d in ['chicken', 'pizza', '-']:\n",
    "                    data.setdefault((a, b, c, d), list())\n",
    "    for i in info:\n",
    "        i = i.split()\n",
    "        for a in [i[0], '-']:\n",
    "            for b in [i[1], '-']:\n",
    "                for c in [i[2], '-']:\n",
    "                    for d in [i[3], '-']:\n",
    "                        data[(a, b, c, d)].append(int(i[4]))\n",
    "\n",
    "    for k in data:\n",
    "        data[k].sort()\n",
    "\n",
    "        # print(k, data[k])\n",
    "\n",
    "    answer = list()\n",
    "    for q in query:\n",
    "        q = q.split()\n",
    "\n",
    "        pool = data[(q[0], q[2], q[4], q[6])]\n",
    "        find = int(q[7])\n",
    "        l = 0\n",
    "        r = len(pool)\n",
    "        mid = 0\n",
    "        while l < r:\n",
    "            mid = (r+l)//2\n",
    "            if pool[mid] >= find:\n",
    "                r = mid\n",
    "            else:\n",
    "                l = mid+1\n",
    "            # print(l, r, mid, answer)\n",
    "        # answer.append((pool, find, mid))\n",
    "        answer.append(len(pool)-l)\n",
    "\n",
    "    return answer"
   ]
  }
 ],
 "metadata": {
  "kernelspec": {
   "display_name": "Python 3",
   "language": "python",
   "name": "python3"
  },
  "language_info": {
   "codemirror_mode": {
    "name": "ipython",
    "version": 3
   },
   "file_extension": ".py",
   "mimetype": "text/x-python",
   "name": "python",
   "nbconvert_exporter": "python",
   "pygments_lexer": "ipython3",
   "version": "3.7.6"
  }
 },
 "nbformat": 4,
 "nbformat_minor": 4
}
