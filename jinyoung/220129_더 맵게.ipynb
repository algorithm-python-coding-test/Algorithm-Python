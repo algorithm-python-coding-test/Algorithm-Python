{
 "cells": [
  {
   "cell_type": "markdown",
   "metadata": {},
   "source": [
    "### 개인풀이"
   ]
  },
  {
   "cell_type": "code",
   "execution_count": 1,
   "metadata": {},
   "outputs": [],
   "source": [
    "import heapq\n",
    "def solution(scoville, K):\n",
    "    answer = 0\n",
    "    heapq.heapify(scoville)\n",
    "    for _ in range(len(scoville)):\n",
    "        i = heapq.heappop(scoville)\n",
    "        if i >K:\n",
    "            return answer\n",
    "        else:\n",
    "            if len(scoville)==0:\n",
    "                return -1\n",
    "            else:\n",
    "                j = heapq.heappop(scoville)\n",
    "                n = i+2*j\n",
    "                heapq.heappush(scoville, n)\n",
    "                answer+=1\n",
    "            \n",
    "    return answer"
   ]
  },
  {
   "cell_type": "code",
   "execution_count": 6,
   "metadata": {},
   "outputs": [],
   "source": [
    "#sort 이용한 풀이\n",
    "def solution(scoville, K):\n",
    "    answer = 0\n",
    "    \n",
    "    for _ in range(len(scoville)):\n",
    "        scoville.sort()\n",
    "        i = scoville.pop(0)\n",
    "        if i >K:\n",
    "            return answer\n",
    "        else:\n",
    "            if len(scoville)==0:\n",
    "                return -1\n",
    "            else:\n",
    "                j = scoville.pop(0)\n",
    "                n = i+2*j\n",
    "                scoville.append(n)\n",
    "                answer+=1\n",
    "            \n",
    "    return answer\n",
    "\n",
    "# 효율성  테스트\n",
    "# 테스트 1 〉\t실패 (시간 초과)\n",
    "# 테스트 2 〉\t실패 (시간 초과)\n",
    "# 테스트 3 〉\t실패 (시간 초과)\n",
    "# 테스트 4 〉\t실패 (시간 초과)\n",
    "# 테스트 5 〉\t실패 (시간 초과)\n",
    "# 채점 결과\n",
    "# 정확성: 76.2\n",
    "# 효율성: 0.0\n",
    "# 합계: 76.2 / 100.0\n",
    "\n",
    "##정렬하는데 시간이 늘어남"
   ]
  },
  {
   "cell_type": "markdown",
   "metadata": {},
   "source": [
    "### 다른풀이"
   ]
  },
  {
   "cell_type": "code",
   "execution_count": null,
   "metadata": {},
   "outputs": [],
   "source": [
    "#다른풀이\n",
    "from heapq import heapify, heappush, heappop\n",
    "def solution(scoville, K):\n",
    "    heapify(scoville)\n",
    "    for i in range(1000000):\n",
    "        try:\n",
    "            heappush(scoville, heappop(scoville)+(heappop(scoville)*2))\n",
    "            if scoville[0] >= K: return i+1\n",
    "        except:\n",
    "            return -1"
   ]
  }
 ],
 "metadata": {
  "kernelspec": {
   "display_name": "Python 3",
   "language": "python",
   "name": "python3"
  },
  "language_info": {
   "codemirror_mode": {
    "name": "ipython",
    "version": 3
   },
   "file_extension": ".py",
   "mimetype": "text/x-python",
   "name": "python",
   "nbconvert_exporter": "python",
   "pygments_lexer": "ipython3",
   "version": "3.7.6"
  }
 },
 "nbformat": 4,
 "nbformat_minor": 4
}
